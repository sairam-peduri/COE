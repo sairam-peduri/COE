{
  "nbformat": 4,
  "nbformat_minor": 0,
  "metadata": {
    "colab": {
      "provenance": [],
      "authorship_tag": "ABX9TyME+0zdH/DKhNCAQNZHyJla",
      "include_colab_link": true
    },
    "kernelspec": {
      "name": "python3",
      "display_name": "Python 3"
    },
    "language_info": {
      "name": "python"
    }
  },
  "cells": [
    {
      "cell_type": "markdown",
      "metadata": {
        "id": "view-in-github",
        "colab_type": "text"
      },
      "source": [
        "<a href=\"https://colab.research.google.com/github/sairam-peduri/COE/blob/main/SimpleLinearRegression.ipynb\" target=\"_parent\"><img src=\"https://colab.research.google.com/assets/colab-badge.svg\" alt=\"Open In Colab\"/></a>"
      ]
    },
    {
      "cell_type": "code",
      "execution_count": null,
      "metadata": {
        "id": "66WxqA32BXSI"
      },
      "outputs": [],
      "source": [
        "# Step 1: Import necessary libraries\n",
        "\n",
        "import numpy as np  # For handling numerical data\n",
        "\n",
        "import matplotlib.pyplot as plt  # For data visualization\n",
        "\n",
        "from sklearn.linear_model import LinearRegression  # For building the regression model\n",
        "\n",
        "from sklearn.metrics import mean_squared_error, mean_absolute_error, r2_score  # For evaluating the model\n",
        "\n",
        "import statsmodels.api as sm  # For OLS (Ordinary Least Squares) Regression\n"
      ]
    },
    {
      "cell_type": "code",
      "source": [
        "# Step 2: Define the dataset (Experience in years and corresponding Salary in $1000s)\n",
        "np.random.seed(42)  # Ensuring reproducibility of random noise\n",
        "\n",
        "X = np.array([1, 2, 3, 4, 5, 6, 7, 8, 9, 10]).reshape(-1, 1)  # Independent variable (Experience)\n",
        "true_salaries = np.array([30, 35, 40, 45, 50, 55, 60, 65, 70, 75])  # True salary values"
      ],
      "metadata": {
        "id": "EQRJEBQCB8dI"
      },
      "execution_count": null,
      "outputs": []
    },
    {
      "cell_type": "code",
      "source": [
        "# Adding some random noise to salaries to reduce accuracy\n",
        "noise = np.random.normal(0, 5, size=true_salaries.shape)  # Adding Gaussian noise (mean=0, std=5)\n",
        "Y = true_salaries + noise  # Final dependent variable with noise"
      ],
      "metadata": {
        "id": "t7eTNJfjB_q9"
      },
      "execution_count": null,
      "outputs": []
    },
    {
      "cell_type": "code",
      "source": [
        "model=LinearRegression()\n",
        "model.fit(X,Y)\n",
        "intercept = model.intercept_\n",
        "coefficients = model.coef_\n",
        "\n",
        "print(f\"Intercept: {intercept}\")\n",
        "print(f\"Coefficients: {coefficients}\")"
      ],
      "metadata": {
        "colab": {
          "base_uri": "https://localhost:8080/"
        },
        "id": "5u8HyPz5CPm8",
        "outputId": "acc20996-051c-43b8-d401-5f5c5e7d1119"
      },
      "execution_count": null,
      "outputs": [
        {
          "output_type": "stream",
          "name": "stdout",
          "text": [
            "Intercept: 27.430065779800533\n",
            "Coefficients: [4.96549814]\n"
          ]
        }
      ]
    },
    {
      "cell_type": "code",
      "source": [
        "coefficient = model.coef_\n",
        "print(f\"Coefficient: {coefficient}\")\n",
        "\n",
        "#calculate intercept\n",
        "intercept = model.intercept_\n",
        "print(f\"Intercept: {intercept}\")"
      ],
      "metadata": {
        "colab": {
          "base_uri": "https://localhost:8080/"
        },
        "id": "X5zXVKhfCbn1",
        "outputId": "01f72046-092b-45fe-bd77-2672c54b116f"
      },
      "execution_count": null,
      "outputs": [
        {
          "output_type": "stream",
          "name": "stdout",
          "text": [
            "Coefficient: [4.96549814]\n",
            "Intercept: 27.430065779800533\n"
          ]
        }
      ]
    },
    {
      "cell_type": "code",
      "source": [
        "m=model.coef_[0]\n",
        "c=model.intercept_"
      ],
      "metadata": {
        "id": "I-1Ay0woC8p5"
      },
      "execution_count": null,
      "outputs": []
    },
    {
      "cell_type": "code",
      "source": [
        "print(m)"
      ],
      "metadata": {
        "colab": {
          "base_uri": "https://localhost:8080/"
        },
        "id": "gKPaOJdrDSK-",
        "outputId": "35dbf6a6-05d9-4382-9062-47d74ca51801"
      },
      "execution_count": null,
      "outputs": [
        {
          "output_type": "stream",
          "name": "stdout",
          "text": [
            "4.965498141580592\n"
          ]
        }
      ]
    },
    {
      "cell_type": "code",
      "source": [
        "print(c)"
      ],
      "metadata": {
        "colab": {
          "base_uri": "https://localhost:8080/"
        },
        "id": "GO89SwaiDy4l",
        "outputId": "14d90ede-160c-4b23-c00b-4a68ae709020"
      },
      "execution_count": null,
      "outputs": [
        {
          "output_type": "stream",
          "name": "stdout",
          "text": [
            "27.430065779800533\n"
          ]
        }
      ]
    },
    {
      "cell_type": "code",
      "source": [
        "print(f\"Equation of the line: Y={m:.2f}X+{c:.2f}\")"
      ],
      "metadata": {
        "colab": {
          "base_uri": "https://localhost:8080/"
        },
        "id": "NjaYA77oDz22",
        "outputId": "f925ac39-f3be-4533-88a4-05c17f089675"
      },
      "execution_count": null,
      "outputs": [
        {
          "output_type": "stream",
          "name": "stdout",
          "text": [
            "Equation of the line: Y=4.97X+27.43\n"
          ]
        }
      ]
    },
    {
      "cell_type": "code",
      "source": [
        "Y_pred=model.predict(X)"
      ],
      "metadata": {
        "id": "YxskrP9AEAV7"
      },
      "execution_count": null,
      "outputs": []
    },
    {
      "cell_type": "code",
      "source": [
        "mse=mean_squared_error(Y,Y_pred)\n",
        "print(f\"mean square error(MSE):{mse:.2f}\")"
      ],
      "metadata": {
        "id": "j_PzNsPlEyfB",
        "colab": {
          "base_uri": "https://localhost:8080/"
        },
        "outputId": "885e919b-f848-4510-f347-d8518c937a98"
      },
      "execution_count": 22,
      "outputs": [
        {
          "output_type": "stream",
          "name": "stdout",
          "text": [
            "mean square error(MSE):11.75\n"
          ]
        }
      ]
    },
    {
      "cell_type": "code",
      "source": [
        "mae=mean_absolute_error(Y,Y_pred)\n",
        "print(f\"mean square error(MSE):{mae:.2f}\")"
      ],
      "metadata": {
        "colab": {
          "base_uri": "https://localhost:8080/"
        },
        "id": "dA0h1DOCHCa5",
        "outputId": "366f6546-19b1-4049-f4e3-ef3f9638782a"
      },
      "execution_count": 23,
      "outputs": [
        {
          "output_type": "stream",
          "name": "stdout",
          "text": [
            "mean square error(MSE):2.87\n"
          ]
        }
      ]
    },
    {
      "cell_type": "code",
      "source": [],
      "metadata": {
        "id": "GRiEs2s8HWmb"
      },
      "execution_count": null,
      "outputs": []
    }
  ]
}